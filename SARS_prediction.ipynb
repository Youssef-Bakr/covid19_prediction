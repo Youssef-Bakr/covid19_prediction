{
  "nbformat": 4,
  "nbformat_minor": 0,
  "metadata": {
    "colab": {
      "name": "SARS_prediction.ipynb",
      "provenance": [],
      "collapsed_sections": []
    },
    "kernelspec": {
      "name": "python3",
      "display_name": "Python 3"
    },
    "accelerator": "GPU"
  },
  "cells": [
    {
      "cell_type": "markdown",
      "metadata": {
        "id": "TEVGXSTD-iH7"
      },
      "source": [
        "# SARS Prediction with B-cell data"
      ]
    },
    {
      "cell_type": "markdown",
      "metadata": {
        "id": "RRkpgsUDXu_f"
      },
      "source": [
        "## Get Data\n",
        "\n",
        "https://www.kaggle.com/futurecorporation/epitope-prediction"
      ]
    },
    {
      "cell_type": "code",
      "metadata": {
        "colab": {
          "base_uri": "https://localhost:8080/",
          "height": 224
        },
        "id": "as68MlpU92Z2",
        "outputId": "55d4d5be-d4ed-452b-9042-2efb4077264f"
      },
      "source": [
        "import pandas as pd\n",
        "\n",
        "bcell = pd.read_csv(\"https://raw.githubusercontent.com/likarajo/covid19_prediction/main/input_bcell.csv\")\n",
        "bcell.head()"
      ],
      "execution_count": 1,
      "outputs": [
        {
          "output_type": "execute_result",
          "data": {
            "text/html": [
              "<div>\n",
              "<style scoped>\n",
              "    .dataframe tbody tr th:only-of-type {\n",
              "        vertical-align: middle;\n",
              "    }\n",
              "\n",
              "    .dataframe tbody tr th {\n",
              "        vertical-align: top;\n",
              "    }\n",
              "\n",
              "    .dataframe thead th {\n",
              "        text-align: right;\n",
              "    }\n",
              "</style>\n",
              "<table border=\"1\" class=\"dataframe\">\n",
              "  <thead>\n",
              "    <tr style=\"text-align: right;\">\n",
              "      <th></th>\n",
              "      <th>parent_protein_id</th>\n",
              "      <th>protein_seq</th>\n",
              "      <th>start_position</th>\n",
              "      <th>end_position</th>\n",
              "      <th>peptide_seq</th>\n",
              "      <th>chou_fasman</th>\n",
              "      <th>emini</th>\n",
              "      <th>kolaskar_tongaonkar</th>\n",
              "      <th>parker</th>\n",
              "      <th>isoelectric_point</th>\n",
              "      <th>aromaticity</th>\n",
              "      <th>hydrophobicity</th>\n",
              "      <th>stability</th>\n",
              "      <th>target</th>\n",
              "    </tr>\n",
              "  </thead>\n",
              "  <tbody>\n",
              "    <tr>\n",
              "      <th>0</th>\n",
              "      <td>A2T3T0</td>\n",
              "      <td>MDVLYSLSKTLKDARDKIVEGTLYSNVSDLIQQFNQMIITMNGNEF...</td>\n",
              "      <td>161</td>\n",
              "      <td>165</td>\n",
              "      <td>SASFT</td>\n",
              "      <td>1.016</td>\n",
              "      <td>0.703</td>\n",
              "      <td>1.018</td>\n",
              "      <td>2.22</td>\n",
              "      <td>5.810364</td>\n",
              "      <td>0.103275</td>\n",
              "      <td>-0.143829</td>\n",
              "      <td>40.273300</td>\n",
              "      <td>1</td>\n",
              "    </tr>\n",
              "    <tr>\n",
              "      <th>1</th>\n",
              "      <td>F0V2I4</td>\n",
              "      <td>MTIHKVAINGFGRIGRLLFRNLLSSQGVQVVAVNDVVDIKVLTHLL...</td>\n",
              "      <td>251</td>\n",
              "      <td>255</td>\n",
              "      <td>LCLKI</td>\n",
              "      <td>0.770</td>\n",
              "      <td>0.179</td>\n",
              "      <td>1.199</td>\n",
              "      <td>-3.86</td>\n",
              "      <td>6.210876</td>\n",
              "      <td>0.065476</td>\n",
              "      <td>-0.036905</td>\n",
              "      <td>24.998512</td>\n",
              "      <td>1</td>\n",
              "    </tr>\n",
              "    <tr>\n",
              "      <th>2</th>\n",
              "      <td>O75508</td>\n",
              "      <td>MVATCLQVVGFVTSFVGWIGVIVTTSTNDWVVTCGYTIPTCRKLDE...</td>\n",
              "      <td>145</td>\n",
              "      <td>149</td>\n",
              "      <td>AHRET</td>\n",
              "      <td>0.852</td>\n",
              "      <td>3.427</td>\n",
              "      <td>0.960</td>\n",
              "      <td>4.28</td>\n",
              "      <td>8.223938</td>\n",
              "      <td>0.091787</td>\n",
              "      <td>0.879227</td>\n",
              "      <td>27.863333</td>\n",
              "      <td>1</td>\n",
              "    </tr>\n",
              "    <tr>\n",
              "      <th>3</th>\n",
              "      <td>O84462</td>\n",
              "      <td>MTNSISGYQPTVTTSTSSTTSASGASGSLGASSVSTTANATVTQTA...</td>\n",
              "      <td>152</td>\n",
              "      <td>156</td>\n",
              "      <td>SNYDD</td>\n",
              "      <td>1.410</td>\n",
              "      <td>2.548</td>\n",
              "      <td>0.936</td>\n",
              "      <td>6.32</td>\n",
              "      <td>4.237976</td>\n",
              "      <td>0.044776</td>\n",
              "      <td>-0.521393</td>\n",
              "      <td>30.765373</td>\n",
              "      <td>1</td>\n",
              "    </tr>\n",
              "    <tr>\n",
              "      <th>4</th>\n",
              "      <td>P00918</td>\n",
              "      <td>MSHHWGYGKHNGPEHWHKDFPIAKGERQSPVDIDTHTAKYDPSLKP...</td>\n",
              "      <td>85</td>\n",
              "      <td>89</td>\n",
              "      <td>DGTYR</td>\n",
              "      <td>1.214</td>\n",
              "      <td>1.908</td>\n",
              "      <td>0.937</td>\n",
              "      <td>4.64</td>\n",
              "      <td>6.867493</td>\n",
              "      <td>0.103846</td>\n",
              "      <td>-0.578846</td>\n",
              "      <td>21.684615</td>\n",
              "      <td>1</td>\n",
              "    </tr>\n",
              "  </tbody>\n",
              "</table>\n",
              "</div>"
            ],
            "text/plain": [
              "  parent_protein_id  ... target\n",
              "0            A2T3T0  ...      1\n",
              "1            F0V2I4  ...      1\n",
              "2            O75508  ...      1\n",
              "3            O84462  ...      1\n",
              "4            P00918  ...      1\n",
              "\n",
              "[5 rows x 14 columns]"
            ]
          },
          "metadata": {
            "tags": []
          },
          "execution_count": 1
        }
      ]
    },
    {
      "cell_type": "code",
      "metadata": {
        "colab": {
          "base_uri": "https://localhost:8080/",
          "height": 224
        },
        "id": "gHPxduJujm_s",
        "outputId": "b93daee1-c846-4dd8-d751-3b2fe2687661"
      },
      "source": [
        "sars = pd.read_csv(\"https://raw.githubusercontent.com/likarajo/covid19_prediction/main/input_sars.csv\")\n",
        "sars.head()"
      ],
      "execution_count": 50,
      "outputs": [
        {
          "output_type": "execute_result",
          "data": {
            "text/html": [
              "<div>\n",
              "<style scoped>\n",
              "    .dataframe tbody tr th:only-of-type {\n",
              "        vertical-align: middle;\n",
              "    }\n",
              "\n",
              "    .dataframe tbody tr th {\n",
              "        vertical-align: top;\n",
              "    }\n",
              "\n",
              "    .dataframe thead th {\n",
              "        text-align: right;\n",
              "    }\n",
              "</style>\n",
              "<table border=\"1\" class=\"dataframe\">\n",
              "  <thead>\n",
              "    <tr style=\"text-align: right;\">\n",
              "      <th></th>\n",
              "      <th>parent_protein_id</th>\n",
              "      <th>protein_seq</th>\n",
              "      <th>start_position</th>\n",
              "      <th>end_position</th>\n",
              "      <th>peptide_seq</th>\n",
              "      <th>chou_fasman</th>\n",
              "      <th>emini</th>\n",
              "      <th>kolaskar_tongaonkar</th>\n",
              "      <th>parker</th>\n",
              "      <th>isoelectric_point</th>\n",
              "      <th>aromaticity</th>\n",
              "      <th>hydrophobicity</th>\n",
              "      <th>stability</th>\n",
              "      <th>target</th>\n",
              "    </tr>\n",
              "  </thead>\n",
              "  <tbody>\n",
              "    <tr>\n",
              "      <th>0</th>\n",
              "      <td>AAU93319</td>\n",
              "      <td>MFIFLLFLTLTSGSDLDRCTTFDDVQAPNYTQHTSSMRGVYYPDEI...</td>\n",
              "      <td>1</td>\n",
              "      <td>17</td>\n",
              "      <td>MFIFLLFLTLTSGSDLD</td>\n",
              "      <td>0.887</td>\n",
              "      <td>0.040</td>\n",
              "      <td>1.056</td>\n",
              "      <td>-2.159</td>\n",
              "      <td>5.569763</td>\n",
              "      <td>0.116335</td>\n",
              "      <td>-0.061116</td>\n",
              "      <td>33.205116</td>\n",
              "      <td>0</td>\n",
              "    </tr>\n",
              "    <tr>\n",
              "      <th>1</th>\n",
              "      <td>AAU93319</td>\n",
              "      <td>MFIFLLFLTLTSGSDLDRCTTFDDVQAPNYTQHTSSMRGVYYPDEI...</td>\n",
              "      <td>1</td>\n",
              "      <td>15</td>\n",
              "      <td>MFIFLLFLTLTSGSD</td>\n",
              "      <td>0.869</td>\n",
              "      <td>0.047</td>\n",
              "      <td>1.056</td>\n",
              "      <td>-2.500</td>\n",
              "      <td>5.569763</td>\n",
              "      <td>0.116335</td>\n",
              "      <td>-0.061116</td>\n",
              "      <td>33.205116</td>\n",
              "      <td>0</td>\n",
              "    </tr>\n",
              "    <tr>\n",
              "      <th>2</th>\n",
              "      <td>AAU93319</td>\n",
              "      <td>MFIFLLFLTLTSGSDLDRCTTFDDVQAPNYTQHTSSMRGVYYPDEI...</td>\n",
              "      <td>2</td>\n",
              "      <td>10</td>\n",
              "      <td>FIFLLFLTL</td>\n",
              "      <td>0.621</td>\n",
              "      <td>0.042</td>\n",
              "      <td>1.148</td>\n",
              "      <td>-7.467</td>\n",
              "      <td>5.569763</td>\n",
              "      <td>0.116335</td>\n",
              "      <td>-0.061116</td>\n",
              "      <td>33.205116</td>\n",
              "      <td>0</td>\n",
              "    </tr>\n",
              "    <tr>\n",
              "      <th>3</th>\n",
              "      <td>AAU93319</td>\n",
              "      <td>MFIFLLFLTLTSGSDLDRCTTFDDVQAPNYTQHTSSMRGVYYPDEI...</td>\n",
              "      <td>6</td>\n",
              "      <td>20</td>\n",
              "      <td>LFLTLTSGSDLDRCT</td>\n",
              "      <td>1.021</td>\n",
              "      <td>0.230</td>\n",
              "      <td>1.049</td>\n",
              "      <td>0.927</td>\n",
              "      <td>5.569763</td>\n",
              "      <td>0.116335</td>\n",
              "      <td>-0.061116</td>\n",
              "      <td>33.205116</td>\n",
              "      <td>0</td>\n",
              "    </tr>\n",
              "    <tr>\n",
              "      <th>4</th>\n",
              "      <td>AAU93319</td>\n",
              "      <td>MFIFLLFLTLTSGSDLDRCTTFDDVQAPNYTQHTSSMRGVYYPDEI...</td>\n",
              "      <td>9</td>\n",
              "      <td>25</td>\n",
              "      <td>TLTSGSDLDRCTTFDDV</td>\n",
              "      <td>1.089</td>\n",
              "      <td>0.627</td>\n",
              "      <td>1.015</td>\n",
              "      <td>3.165</td>\n",
              "      <td>5.569763</td>\n",
              "      <td>0.116335</td>\n",
              "      <td>-0.061116</td>\n",
              "      <td>33.205116</td>\n",
              "      <td>0</td>\n",
              "    </tr>\n",
              "  </tbody>\n",
              "</table>\n",
              "</div>"
            ],
            "text/plain": [
              "  parent_protein_id  ... target\n",
              "0          AAU93319  ...      0\n",
              "1          AAU93319  ...      0\n",
              "2          AAU93319  ...      0\n",
              "3          AAU93319  ...      0\n",
              "4          AAU93319  ...      0\n",
              "\n",
              "[5 rows x 14 columns]"
            ]
          },
          "metadata": {
            "tags": []
          },
          "execution_count": 50
        }
      ]
    },
    {
      "cell_type": "markdown",
      "metadata": {
        "id": "lFhID7_QX9zU"
      },
      "source": [
        "## Inspect the data\n",
        "* Type of Features\n",
        "* Null values\n",
        "* Statistics"
      ]
    },
    {
      "cell_type": "code",
      "metadata": {
        "colab": {
          "base_uri": "https://localhost:8080/"
        },
        "id": "hJBAi4YV-h1o",
        "outputId": "f4902417-18ad-4482-8ae1-befbb443aff6"
      },
      "source": [
        "bcell.info()"
      ],
      "execution_count": 2,
      "outputs": [
        {
          "output_type": "stream",
          "text": [
            "<class 'pandas.core.frame.DataFrame'>\n",
            "RangeIndex: 14387 entries, 0 to 14386\n",
            "Data columns (total 14 columns):\n",
            " #   Column               Non-Null Count  Dtype  \n",
            "---  ------               --------------  -----  \n",
            " 0   parent_protein_id    14387 non-null  object \n",
            " 1   protein_seq          14387 non-null  object \n",
            " 2   start_position       14387 non-null  int64  \n",
            " 3   end_position         14387 non-null  int64  \n",
            " 4   peptide_seq          14387 non-null  object \n",
            " 5   chou_fasman          14387 non-null  float64\n",
            " 6   emini                14387 non-null  float64\n",
            " 7   kolaskar_tongaonkar  14387 non-null  float64\n",
            " 8   parker               14387 non-null  float64\n",
            " 9   isoelectric_point    14387 non-null  float64\n",
            " 10  aromaticity          14387 non-null  float64\n",
            " 11  hydrophobicity       14387 non-null  float64\n",
            " 12  stability            14387 non-null  float64\n",
            " 13  target               14387 non-null  int64  \n",
            "dtypes: float64(8), int64(3), object(3)\n",
            "memory usage: 1.5+ MB\n"
          ],
          "name": "stdout"
        }
      ]
    },
    {
      "cell_type": "code",
      "metadata": {
        "colab": {
          "base_uri": "https://localhost:8080/"
        },
        "id": "yf4N7_6bkXOC",
        "outputId": "17902984-96df-4e07-bca1-7a8472b83903"
      },
      "source": [
        "sars.info()"
      ],
      "execution_count": 51,
      "outputs": [
        {
          "output_type": "stream",
          "text": [
            "<class 'pandas.core.frame.DataFrame'>\n",
            "RangeIndex: 520 entries, 0 to 519\n",
            "Data columns (total 14 columns):\n",
            " #   Column               Non-Null Count  Dtype  \n",
            "---  ------               --------------  -----  \n",
            " 0   parent_protein_id    520 non-null    object \n",
            " 1   protein_seq          520 non-null    object \n",
            " 2   start_position       520 non-null    int64  \n",
            " 3   end_position         520 non-null    int64  \n",
            " 4   peptide_seq          520 non-null    object \n",
            " 5   chou_fasman          520 non-null    float64\n",
            " 6   emini                520 non-null    float64\n",
            " 7   kolaskar_tongaonkar  520 non-null    float64\n",
            " 8   parker               520 non-null    float64\n",
            " 9   isoelectric_point    520 non-null    float64\n",
            " 10  aromaticity          520 non-null    float64\n",
            " 11  hydrophobicity       520 non-null    float64\n",
            " 12  stability            520 non-null    float64\n",
            " 13  target               520 non-null    int64  \n",
            "dtypes: float64(8), int64(3), object(3)\n",
            "memory usage: 57.0+ KB\n"
          ],
          "name": "stdout"
        }
      ]
    },
    {
      "cell_type": "code",
      "metadata": {
        "colab": {
          "base_uri": "https://localhost:8080/"
        },
        "id": "N6IV13GiSxzU",
        "outputId": "b9b7a0dc-d55c-47c6-9e5f-bdbd33b3b879"
      },
      "source": [
        "categorical_features = bcell.select_dtypes(include=['object']).columns.tolist()\n",
        "print(categorical_features)\n",
        "continuous_features = bcell.select_dtypes(include=['int64', 'float64']).columns.tolist()\n",
        "continuous_features.remove('target')\n",
        "print(continuous_features)                                  "
      ],
      "execution_count": 3,
      "outputs": [
        {
          "output_type": "stream",
          "text": [
            "['parent_protein_id', 'protein_seq', 'peptide_seq']\n",
            "['start_position', 'end_position', 'chou_fasman', 'emini', 'kolaskar_tongaonkar', 'parker', 'isoelectric_point', 'aromaticity', 'hydrophobicity', 'stability']\n"
          ],
          "name": "stdout"
        }
      ]
    },
    {
      "cell_type": "markdown",
      "metadata": {
        "id": "GwWlWklrZiej"
      },
      "source": [
        "* 3 categorical features\n",
        "* 10 continuous features\n",
        "* No null values"
      ]
    },
    {
      "cell_type": "markdown",
      "metadata": {
        "id": "enT_KDdI62PK"
      },
      "source": [
        "### Explore categorical features"
      ]
    },
    {
      "cell_type": "code",
      "metadata": {
        "colab": {
          "base_uri": "https://localhost:8080/",
          "height": 173
        },
        "id": "MXdVU_SL6aOV",
        "outputId": "513f2a5f-fdac-45fa-e88e-d67e4e63d7f1"
      },
      "source": [
        "bcell[categorical_features].describe()"
      ],
      "execution_count": 4,
      "outputs": [
        {
          "output_type": "execute_result",
          "data": {
            "text/html": [
              "<div>\n",
              "<style scoped>\n",
              "    .dataframe tbody tr th:only-of-type {\n",
              "        vertical-align: middle;\n",
              "    }\n",
              "\n",
              "    .dataframe tbody tr th {\n",
              "        vertical-align: top;\n",
              "    }\n",
              "\n",
              "    .dataframe thead th {\n",
              "        text-align: right;\n",
              "    }\n",
              "</style>\n",
              "<table border=\"1\" class=\"dataframe\">\n",
              "  <thead>\n",
              "    <tr style=\"text-align: right;\">\n",
              "      <th></th>\n",
              "      <th>parent_protein_id</th>\n",
              "      <th>protein_seq</th>\n",
              "      <th>peptide_seq</th>\n",
              "    </tr>\n",
              "  </thead>\n",
              "  <tbody>\n",
              "    <tr>\n",
              "      <th>count</th>\n",
              "      <td>14387</td>\n",
              "      <td>14387</td>\n",
              "      <td>14387</td>\n",
              "    </tr>\n",
              "    <tr>\n",
              "      <th>unique</th>\n",
              "      <td>760</td>\n",
              "      <td>757</td>\n",
              "      <td>14362</td>\n",
              "    </tr>\n",
              "    <tr>\n",
              "      <th>top</th>\n",
              "      <td>P10155</td>\n",
              "      <td>MEESVNQMQPLNEKQIANSQDGYVWQVTDMNRLHRFLCFGSEGGTY...</td>\n",
              "      <td>ARDVLAVVSK</td>\n",
              "    </tr>\n",
              "    <tr>\n",
              "      <th>freq</th>\n",
              "      <td>560</td>\n",
              "      <td>560</td>\n",
              "      <td>3</td>\n",
              "    </tr>\n",
              "  </tbody>\n",
              "</table>\n",
              "</div>"
            ],
            "text/plain": [
              "       parent_protein_id  ... peptide_seq\n",
              "count              14387  ...       14387\n",
              "unique               760  ...       14362\n",
              "top               P10155  ...  ARDVLAVVSK\n",
              "freq                 560  ...           3\n",
              "\n",
              "[4 rows x 3 columns]"
            ]
          },
          "metadata": {
            "tags": []
          },
          "execution_count": 4
        }
      ]
    },
    {
      "cell_type": "markdown",
      "metadata": {
        "id": "ZGZFVSRd6cHf"
      },
      "source": [
        "`parent_protein_id` and `protein_seq` have almost identical statistics. So one can be ignored."
      ]
    },
    {
      "cell_type": "markdown",
      "metadata": {
        "id": "xGVb2F3j65ua"
      },
      "source": [
        "### Explore continuous features"
      ]
    },
    {
      "cell_type": "code",
      "metadata": {
        "colab": {
          "base_uri": "https://localhost:8080/",
          "height": 297
        },
        "id": "yCPyWeuO6laL",
        "outputId": "a3f6359d-0b2e-4ca5-9634-ee98605ab491"
      },
      "source": [
        "bcell[continuous_features].describe()"
      ],
      "execution_count": 5,
      "outputs": [
        {
          "output_type": "execute_result",
          "data": {
            "text/html": [
              "<div>\n",
              "<style scoped>\n",
              "    .dataframe tbody tr th:only-of-type {\n",
              "        vertical-align: middle;\n",
              "    }\n",
              "\n",
              "    .dataframe tbody tr th {\n",
              "        vertical-align: top;\n",
              "    }\n",
              "\n",
              "    .dataframe thead th {\n",
              "        text-align: right;\n",
              "    }\n",
              "</style>\n",
              "<table border=\"1\" class=\"dataframe\">\n",
              "  <thead>\n",
              "    <tr style=\"text-align: right;\">\n",
              "      <th></th>\n",
              "      <th>start_position</th>\n",
              "      <th>end_position</th>\n",
              "      <th>chou_fasman</th>\n",
              "      <th>emini</th>\n",
              "      <th>kolaskar_tongaonkar</th>\n",
              "      <th>parker</th>\n",
              "      <th>isoelectric_point</th>\n",
              "      <th>aromaticity</th>\n",
              "      <th>hydrophobicity</th>\n",
              "      <th>stability</th>\n",
              "    </tr>\n",
              "  </thead>\n",
              "  <tbody>\n",
              "    <tr>\n",
              "      <th>count</th>\n",
              "      <td>14387.000000</td>\n",
              "      <td>14387.000000</td>\n",
              "      <td>14387.000000</td>\n",
              "      <td>14387.000000</td>\n",
              "      <td>14387.000000</td>\n",
              "      <td>14387.000000</td>\n",
              "      <td>14387.000000</td>\n",
              "      <td>14387.000000</td>\n",
              "      <td>14387.000000</td>\n",
              "      <td>14387.000000</td>\n",
              "    </tr>\n",
              "    <tr>\n",
              "      <th>mean</th>\n",
              "      <td>297.675818</td>\n",
              "      <td>308.085077</td>\n",
              "      <td>0.994706</td>\n",
              "      <td>1.059788</td>\n",
              "      <td>1.021188</td>\n",
              "      <td>1.767137</td>\n",
              "      <td>7.067472</td>\n",
              "      <td>0.075727</td>\n",
              "      <td>-0.406097</td>\n",
              "      <td>43.703902</td>\n",
              "    </tr>\n",
              "    <tr>\n",
              "      <th>std</th>\n",
              "      <td>353.741450</td>\n",
              "      <td>353.733297</td>\n",
              "      <td>0.124772</td>\n",
              "      <td>1.621931</td>\n",
              "      <td>0.053804</td>\n",
              "      <td>1.968985</td>\n",
              "      <td>1.888708</td>\n",
              "      <td>0.025767</td>\n",
              "      <td>0.394618</td>\n",
              "      <td>16.682362</td>\n",
              "    </tr>\n",
              "    <tr>\n",
              "      <th>min</th>\n",
              "      <td>1.000000</td>\n",
              "      <td>6.000000</td>\n",
              "      <td>0.534000</td>\n",
              "      <td>0.000000</td>\n",
              "      <td>0.838000</td>\n",
              "      <td>-9.029000</td>\n",
              "      <td>3.686096</td>\n",
              "      <td>0.000000</td>\n",
              "      <td>-1.971171</td>\n",
              "      <td>5.448936</td>\n",
              "    </tr>\n",
              "    <tr>\n",
              "      <th>25%</th>\n",
              "      <td>84.000000</td>\n",
              "      <td>95.000000</td>\n",
              "      <td>0.911000</td>\n",
              "      <td>0.248000</td>\n",
              "      <td>0.986000</td>\n",
              "      <td>0.600000</td>\n",
              "      <td>5.621033</td>\n",
              "      <td>0.060606</td>\n",
              "      <td>-0.606215</td>\n",
              "      <td>31.614529</td>\n",
              "    </tr>\n",
              "    <tr>\n",
              "      <th>50%</th>\n",
              "      <td>191.000000</td>\n",
              "      <td>200.000000</td>\n",
              "      <td>0.990000</td>\n",
              "      <td>0.556000</td>\n",
              "      <td>1.020000</td>\n",
              "      <td>1.793000</td>\n",
              "      <td>6.499573</td>\n",
              "      <td>0.074534</td>\n",
              "      <td>-0.330540</td>\n",
              "      <td>42.287268</td>\n",
              "    </tr>\n",
              "    <tr>\n",
              "      <th>75%</th>\n",
              "      <td>382.000000</td>\n",
              "      <td>393.000000</td>\n",
              "      <td>1.074000</td>\n",
              "      <td>1.209000</td>\n",
              "      <td>1.055000</td>\n",
              "      <td>3.009500</td>\n",
              "      <td>8.676575</td>\n",
              "      <td>0.091312</td>\n",
              "      <td>-0.189591</td>\n",
              "      <td>49.101172</td>\n",
              "    </tr>\n",
              "    <tr>\n",
              "      <th>max</th>\n",
              "      <td>3079.000000</td>\n",
              "      <td>3086.000000</td>\n",
              "      <td>1.546000</td>\n",
              "      <td>27.189000</td>\n",
              "      <td>1.255000</td>\n",
              "      <td>9.120000</td>\n",
              "      <td>12.232727</td>\n",
              "      <td>0.182254</td>\n",
              "      <td>1.267089</td>\n",
              "      <td>137.046667</td>\n",
              "    </tr>\n",
              "  </tbody>\n",
              "</table>\n",
              "</div>"
            ],
            "text/plain": [
              "       start_position  end_position  ...  hydrophobicity     stability\n",
              "count    14387.000000  14387.000000  ...    14387.000000  14387.000000\n",
              "mean       297.675818    308.085077  ...       -0.406097     43.703902\n",
              "std        353.741450    353.733297  ...        0.394618     16.682362\n",
              "min          1.000000      6.000000  ...       -1.971171      5.448936\n",
              "25%         84.000000     95.000000  ...       -0.606215     31.614529\n",
              "50%        191.000000    200.000000  ...       -0.330540     42.287268\n",
              "75%        382.000000    393.000000  ...       -0.189591     49.101172\n",
              "max       3079.000000   3086.000000  ...        1.267089    137.046667\n",
              "\n",
              "[8 rows x 10 columns]"
            ]
          },
          "metadata": {
            "tags": []
          },
          "execution_count": 5
        }
      ]
    },
    {
      "cell_type": "code",
      "metadata": {
        "colab": {
          "base_uri": "https://localhost:8080/",
          "height": 499
        },
        "id": "JeghO-DH6v1t",
        "outputId": "2395d18b-0ed8-49ab-a89d-b02a8a050449"
      },
      "source": [
        "import matplotlib.pyplot as plt\n",
        "import math\n",
        "\n",
        "n = len(continuous_features)\n",
        "h = math.floor(n/2)\n",
        "v = math.ceil(n/h)\n",
        "i = 1\n",
        "plt.rcParams[\"figure.figsize\"] = (20,8)\n",
        "for feature_name in continuous_features:\n",
        "  plt.subplot(v,h,i)\n",
        "  plt.hist(bcell[feature_name])\n",
        "  plt.title(feature_name)\n",
        "  i += 1\n",
        "plt.show()"
      ],
      "execution_count": 6,
      "outputs": [
        {
          "output_type": "display_data",
          "data": {
            "image/png": "[encoded data removed]",
            "text/plain": [
              "<Figure size 1440x576 with 10 Axes>"
            ]
          },
          "metadata": {
            "tags": [],
            "needs_background": "light"
          }
        }
      ]
    },
    {
      "cell_type": "markdown",
      "metadata": {
        "id": "ajCgC9GJ7EwN"
      },
      "source": [
        "Range is abnormal for some features: `start_position`, `end_position`, `emini`."
      ]
    },
    {
      "cell_type": "markdown",
      "metadata": {
        "id": "YHnECtfE40Va"
      },
      "source": [
        "## Data Preprocessing\n",
        "\n",
        "For both training (bcell) and testing (sars) datasets:\n",
        "\n",
        "* Find length of protein sequence\n",
        "* Find length of peptide\n",
        "* Find peptide region\n",
        "* Drop unnecessary columns"
      ]
    },
    {
      "cell_type": "code",
      "metadata": {
        "id": "FpU6oZKf5Mkz"
      },
      "source": [
        "bcell['protein_seq_length'] = bcell.apply(lambda x: len(x.protein_seq), axis=1)\n",
        "bcell['peptide_length'] = bcell.apply(lambda x: len(x.peptide_seq), axis=1)\n",
        "bcell['peptide_region'] = bcell.apply(lambda x: x.peptide_length/x.protein_seq_length, axis=1)\n",
        "\n",
        "bcell = bcell.drop(columns=['parent_protein_id','protein_seq','peptide_seq','start_position','end_position'])"
      ],
      "execution_count": 7,
      "outputs": []
    },
    {
      "cell_type": "code",
      "metadata": {
        "colab": {
          "base_uri": "https://localhost:8080/",
          "height": 224
        },
        "id": "7qZjJ7bd5QWE",
        "outputId": "051c9c28-ad74-4d5f-886a-24d26009567b"
      },
      "source": [
        "bcell.head()"
      ],
      "execution_count": 8,
      "outputs": [
        {
          "output_type": "execute_result",
          "data": {
            "text/html": [
              "<div>\n",
              "<style scoped>\n",
              "    .dataframe tbody tr th:only-of-type {\n",
              "        vertical-align: middle;\n",
              "    }\n",
              "\n",
              "    .dataframe tbody tr th {\n",
              "        vertical-align: top;\n",
              "    }\n",
              "\n",
              "    .dataframe thead th {\n",
              "        text-align: right;\n",
              "    }\n",
              "</style>\n",
              "<table border=\"1\" class=\"dataframe\">\n",
              "  <thead>\n",
              "    <tr style=\"text-align: right;\">\n",
              "      <th></th>\n",
              "      <th>chou_fasman</th>\n",
              "      <th>emini</th>\n",
              "      <th>kolaskar_tongaonkar</th>\n",
              "      <th>parker</th>\n",
              "      <th>isoelectric_point</th>\n",
              "      <th>aromaticity</th>\n",
              "      <th>hydrophobicity</th>\n",
              "      <th>stability</th>\n",
              "      <th>target</th>\n",
              "      <th>protein_seq_length</th>\n",
              "      <th>peptide_length</th>\n",
              "      <th>peptide_region</th>\n",
              "    </tr>\n",
              "  </thead>\n",
              "  <tbody>\n",
              "    <tr>\n",
              "      <th>0</th>\n",
              "      <td>1.016</td>\n",
              "      <td>0.703</td>\n",
              "      <td>1.018</td>\n",
              "      <td>2.22</td>\n",
              "      <td>5.810364</td>\n",
              "      <td>0.103275</td>\n",
              "      <td>-0.143829</td>\n",
              "      <td>40.273300</td>\n",
              "      <td>1</td>\n",
              "      <td>397</td>\n",
              "      <td>5</td>\n",
              "      <td>0.012594</td>\n",
              "    </tr>\n",
              "    <tr>\n",
              "      <th>1</th>\n",
              "      <td>0.770</td>\n",
              "      <td>0.179</td>\n",
              "      <td>1.199</td>\n",
              "      <td>-3.86</td>\n",
              "      <td>6.210876</td>\n",
              "      <td>0.065476</td>\n",
              "      <td>-0.036905</td>\n",
              "      <td>24.998512</td>\n",
              "      <td>1</td>\n",
              "      <td>336</td>\n",
              "      <td>5</td>\n",
              "      <td>0.014881</td>\n",
              "    </tr>\n",
              "    <tr>\n",
              "      <th>2</th>\n",
              "      <td>0.852</td>\n",
              "      <td>3.427</td>\n",
              "      <td>0.960</td>\n",
              "      <td>4.28</td>\n",
              "      <td>8.223938</td>\n",
              "      <td>0.091787</td>\n",
              "      <td>0.879227</td>\n",
              "      <td>27.863333</td>\n",
              "      <td>1</td>\n",
              "      <td>207</td>\n",
              "      <td>5</td>\n",
              "      <td>0.024155</td>\n",
              "    </tr>\n",
              "    <tr>\n",
              "      <th>3</th>\n",
              "      <td>1.410</td>\n",
              "      <td>2.548</td>\n",
              "      <td>0.936</td>\n",
              "      <td>6.32</td>\n",
              "      <td>4.237976</td>\n",
              "      <td>0.044776</td>\n",
              "      <td>-0.521393</td>\n",
              "      <td>30.765373</td>\n",
              "      <td>1</td>\n",
              "      <td>1005</td>\n",
              "      <td>5</td>\n",
              "      <td>0.004975</td>\n",
              "    </tr>\n",
              "    <tr>\n",
              "      <th>4</th>\n",
              "      <td>1.214</td>\n",
              "      <td>1.908</td>\n",
              "      <td>0.937</td>\n",
              "      <td>4.64</td>\n",
              "      <td>6.867493</td>\n",
              "      <td>0.103846</td>\n",
              "      <td>-0.578846</td>\n",
              "      <td>21.684615</td>\n",
              "      <td>1</td>\n",
              "      <td>260</td>\n",
              "      <td>5</td>\n",
              "      <td>0.019231</td>\n",
              "    </tr>\n",
              "  </tbody>\n",
              "</table>\n",
              "</div>"
            ],
            "text/plain": [
              "   chou_fasman  emini  ...  peptide_length  peptide_region\n",
              "0        1.016  0.703  ...               5        0.012594\n",
              "1        0.770  0.179  ...               5        0.014881\n",
              "2        0.852  3.427  ...               5        0.024155\n",
              "3        1.410  2.548  ...               5        0.004975\n",
              "4        1.214  1.908  ...               5        0.019231\n",
              "\n",
              "[5 rows x 12 columns]"
            ]
          },
          "metadata": {
            "tags": []
          },
          "execution_count": 8
        }
      ]
    },
    {
      "cell_type": "code",
      "metadata": {
        "colab": {
          "base_uri": "https://localhost:8080/"
        },
        "id": "UmoTF9GH5Uyz",
        "outputId": "09dca24b-13d6-4968-d342-dd74d8f0f124"
      },
      "source": [
        "bcell.info()"
      ],
      "execution_count": 9,
      "outputs": [
        {
          "output_type": "stream",
          "text": [
            "<class 'pandas.core.frame.DataFrame'>\n",
            "RangeIndex: 14387 entries, 0 to 14386\n",
            "Data columns (total 12 columns):\n",
            " #   Column               Non-Null Count  Dtype  \n",
            "---  ------               --------------  -----  \n",
            " 0   chou_fasman          14387 non-null  float64\n",
            " 1   emini                14387 non-null  float64\n",
            " 2   kolaskar_tongaonkar  14387 non-null  float64\n",
            " 3   parker               14387 non-null  float64\n",
            " 4   isoelectric_point    14387 non-null  float64\n",
            " 5   aromaticity          14387 non-null  float64\n",
            " 6   hydrophobicity       14387 non-null  float64\n",
            " 7   stability            14387 non-null  float64\n",
            " 8   target               14387 non-null  int64  \n",
            " 9   protein_seq_length   14387 non-null  int64  \n",
            " 10  peptide_length       14387 non-null  int64  \n",
            " 11  peptide_region       14387 non-null  float64\n",
            "dtypes: float64(9), int64(3)\n",
            "memory usage: 1.3 MB\n"
          ],
          "name": "stdout"
        }
      ]
    },
    {
      "cell_type": "code",
      "metadata": {
        "id": "lrMxA9emkswX"
      },
      "source": [
        "sars['protein_seq_length'] = sars.apply(lambda x: len(x.protein_seq), axis=1)\n",
        "sars['peptide_length'] = sars.apply(lambda x: len(x.peptide_seq), axis=1)\n",
        "sars['peptide_region'] = sars.apply(lambda x: x.peptide_length/x.protein_seq_length, axis=1)\n",
        "\n",
        "sars = sars.drop(columns=['parent_protein_id','protein_seq','peptide_seq','start_position','end_position'])"
      ],
      "execution_count": 52,
      "outputs": []
    },
    {
      "cell_type": "code",
      "metadata": {
        "colab": {
          "base_uri": "https://localhost:8080/",
          "height": 224
        },
        "id": "9und8XpKk_Ab",
        "outputId": "658bf144-5408-4256-f712-eef5a122b6e7"
      },
      "source": [
        "sars.head()"
      ],
      "execution_count": 54,
      "outputs": [
        {
          "output_type": "execute_result",
          "data": {
            "text/html": [
              "<div>\n",
              "<style scoped>\n",
              "    .dataframe tbody tr th:only-of-type {\n",
              "        vertical-align: middle;\n",
              "    }\n",
              "\n",
              "    .dataframe tbody tr th {\n",
              "        vertical-align: top;\n",
              "    }\n",
              "\n",
              "    .dataframe thead th {\n",
              "        text-align: right;\n",
              "    }\n",
              "</style>\n",
              "<table border=\"1\" class=\"dataframe\">\n",
              "  <thead>\n",
              "    <tr style=\"text-align: right;\">\n",
              "      <th></th>\n",
              "      <th>chou_fasman</th>\n",
              "      <th>emini</th>\n",
              "      <th>kolaskar_tongaonkar</th>\n",
              "      <th>parker</th>\n",
              "      <th>isoelectric_point</th>\n",
              "      <th>aromaticity</th>\n",
              "      <th>hydrophobicity</th>\n",
              "      <th>stability</th>\n",
              "      <th>target</th>\n",
              "      <th>protein_seq_length</th>\n",
              "      <th>peptide_length</th>\n",
              "      <th>peptide_region</th>\n",
              "    </tr>\n",
              "  </thead>\n",
              "  <tbody>\n",
              "    <tr>\n",
              "      <th>0</th>\n",
              "      <td>0.887</td>\n",
              "      <td>0.040</td>\n",
              "      <td>1.056</td>\n",
              "      <td>-2.159</td>\n",
              "      <td>5.569763</td>\n",
              "      <td>0.116335</td>\n",
              "      <td>-0.061116</td>\n",
              "      <td>33.205116</td>\n",
              "      <td>0</td>\n",
              "      <td>1255</td>\n",
              "      <td>17</td>\n",
              "      <td>0.013546</td>\n",
              "    </tr>\n",
              "    <tr>\n",
              "      <th>1</th>\n",
              "      <td>0.869</td>\n",
              "      <td>0.047</td>\n",
              "      <td>1.056</td>\n",
              "      <td>-2.500</td>\n",
              "      <td>5.569763</td>\n",
              "      <td>0.116335</td>\n",
              "      <td>-0.061116</td>\n",
              "      <td>33.205116</td>\n",
              "      <td>0</td>\n",
              "      <td>1255</td>\n",
              "      <td>15</td>\n",
              "      <td>0.011952</td>\n",
              "    </tr>\n",
              "    <tr>\n",
              "      <th>2</th>\n",
              "      <td>0.621</td>\n",
              "      <td>0.042</td>\n",
              "      <td>1.148</td>\n",
              "      <td>-7.467</td>\n",
              "      <td>5.569763</td>\n",
              "      <td>0.116335</td>\n",
              "      <td>-0.061116</td>\n",
              "      <td>33.205116</td>\n",
              "      <td>0</td>\n",
              "      <td>1255</td>\n",
              "      <td>9</td>\n",
              "      <td>0.007171</td>\n",
              "    </tr>\n",
              "    <tr>\n",
              "      <th>3</th>\n",
              "      <td>1.021</td>\n",
              "      <td>0.230</td>\n",
              "      <td>1.049</td>\n",
              "      <td>0.927</td>\n",
              "      <td>5.569763</td>\n",
              "      <td>0.116335</td>\n",
              "      <td>-0.061116</td>\n",
              "      <td>33.205116</td>\n",
              "      <td>0</td>\n",
              "      <td>1255</td>\n",
              "      <td>15</td>\n",
              "      <td>0.011952</td>\n",
              "    </tr>\n",
              "    <tr>\n",
              "      <th>4</th>\n",
              "      <td>1.089</td>\n",
              "      <td>0.627</td>\n",
              "      <td>1.015</td>\n",
              "      <td>3.165</td>\n",
              "      <td>5.569763</td>\n",
              "      <td>0.116335</td>\n",
              "      <td>-0.061116</td>\n",
              "      <td>33.205116</td>\n",
              "      <td>0</td>\n",
              "      <td>1255</td>\n",
              "      <td>17</td>\n",
              "      <td>0.013546</td>\n",
              "    </tr>\n",
              "  </tbody>\n",
              "</table>\n",
              "</div>"
            ],
            "text/plain": [
              "   chou_fasman  emini  ...  peptide_length  peptide_region\n",
              "0        0.887  0.040  ...              17        0.013546\n",
              "1        0.869  0.047  ...              15        0.011952\n",
              "2        0.621  0.042  ...               9        0.007171\n",
              "3        1.021  0.230  ...              15        0.011952\n",
              "4        1.089  0.627  ...              17        0.013546\n",
              "\n",
              "[5 rows x 12 columns]"
            ]
          },
          "metadata": {
            "tags": []
          },
          "execution_count": 54
        }
      ]
    },
    {
      "cell_type": "code",
      "metadata": {
        "colab": {
          "base_uri": "https://localhost:8080/"
        },
        "id": "znMP5Elsk6SK",
        "outputId": "a2620a1f-1fc6-447f-d9db-1cae89d49e98"
      },
      "source": [
        "sars.info()"
      ],
      "execution_count": 53,
      "outputs": [
        {
          "output_type": "stream",
          "text": [
            "<class 'pandas.core.frame.DataFrame'>\n",
            "RangeIndex: 520 entries, 0 to 519\n",
            "Data columns (total 12 columns):\n",
            " #   Column               Non-Null Count  Dtype  \n",
            "---  ------               --------------  -----  \n",
            " 0   chou_fasman          520 non-null    float64\n",
            " 1   emini                520 non-null    float64\n",
            " 2   kolaskar_tongaonkar  520 non-null    float64\n",
            " 3   parker               520 non-null    float64\n",
            " 4   isoelectric_point    520 non-null    float64\n",
            " 5   aromaticity          520 non-null    float64\n",
            " 6   hydrophobicity       520 non-null    float64\n",
            " 7   stability            520 non-null    float64\n",
            " 8   target               520 non-null    int64  \n",
            " 9   protein_seq_length   520 non-null    int64  \n",
            " 10  peptide_length       520 non-null    int64  \n",
            " 11  peptide_region       520 non-null    float64\n",
            "dtypes: float64(9), int64(3)\n",
            "memory usage: 48.9 KB\n"
          ],
          "name": "stdout"
        }
      ]
    },
    {
      "cell_type": "markdown",
      "metadata": {
        "id": "ciyY-vgP7iYF"
      },
      "source": [
        "Only *continuous* features remain"
      ]
    },
    {
      "cell_type": "markdown",
      "metadata": {
        "id": "wlkYRfKh7nO5"
      },
      "source": [
        "## Find important features\n",
        " Use [Extra-trees classifier](https://scikit-learn.org/stable/modules/generated/sklearn.ensemble.ExtraTreesClassifier.html) for finding feature importance"
      ]
    },
    {
      "cell_type": "markdown",
      "metadata": {
        "id": "pWPn8XXV56Ip"
      },
      "source": [
        "### Create and train model"
      ]
    },
    {
      "cell_type": "code",
      "metadata": {
        "id": "0gLgrzBe88qH"
      },
      "source": [
        "from sklearn.ensemble import ExtraTreesClassifier"
      ],
      "execution_count": 10,
      "outputs": []
    },
    {
      "cell_type": "code",
      "metadata": {
        "id": "NkDh90lK7l1x"
      },
      "source": [
        "features = bcell.drop(columns=['target'])\n",
        "label = bcell['target']"
      ],
      "execution_count": 11,
      "outputs": []
    },
    {
      "cell_type": "code",
      "metadata": {
        "id": "dTrqEoCV8OzG"
      },
      "source": [
        "model = ExtraTreesClassifier()"
      ],
      "execution_count": 12,
      "outputs": []
    },
    {
      "cell_type": "code",
      "metadata": {
        "id": "MneyBtED87Bj",
        "colab": {
          "base_uri": "https://localhost:8080/"
        },
        "outputId": "7cf35578-6047-4008-deac-1438e656ecd2"
      },
      "source": [
        "model.fit(X=features, y=label)"
      ],
      "execution_count": 13,
      "outputs": [
        {
          "output_type": "execute_result",
          "data": {
            "text/plain": [
              "ExtraTreesClassifier(bootstrap=False, ccp_alpha=0.0, class_weight=None,\n",
              "                     criterion='gini', max_depth=None, max_features='auto',\n",
              "                     max_leaf_nodes=None, max_samples=None,\n",
              "                     min_impurity_decrease=0.0, min_impurity_split=None,\n",
              "                     min_samples_leaf=1, min_samples_split=2,\n",
              "                     min_weight_fraction_leaf=0.0, n_estimators=100,\n",
              "                     n_jobs=None, oob_score=False, random_state=None, verbose=0,\n",
              "                     warm_start=False)"
            ]
          },
          "metadata": {
            "tags": []
          },
          "execution_count": 13
        }
      ]
    },
    {
      "cell_type": "markdown",
      "metadata": {
        "id": "PqP07Qkm6L3e"
      },
      "source": [
        "### Extract and normalize feature importance"
      ]
    },
    {
      "cell_type": "code",
      "metadata": {
        "colab": {
          "base_uri": "https://localhost:8080/"
        },
        "id": "w8mMKqp66sAP",
        "outputId": "7c65d2b7-84b9-4458-899e-6ee1b697084b"
      },
      "source": [
        "feature_list = features.columns.to_list()\n",
        "feature_importances = model.feature_importances_\n",
        "\n",
        "for i in range(len(feature_list)):\n",
        "  print(feature_list[i], feature_importances[i])"
      ],
      "execution_count": 14,
      "outputs": [
        {
          "output_type": "stream",
          "text": [
            "chou_fasman 0.10592701780637316\n",
            "emini 0.10177020271693828\n",
            "kolaskar_tongaonkar 0.10040657568278219\n",
            "parker 0.10872363845096075\n",
            "isoelectric_point 0.0875939078053279\n",
            "aromaticity 0.08229784111226313\n",
            "hydrophobicity 0.07755138700391538\n",
            "stability 0.07851434587282899\n",
            "protein_seq_length 0.07839485136450934\n",
            "peptide_length 0.09569834380542677\n",
            "peptide_region 0.08312188837867401\n"
          ],
          "name": "stdout"
        }
      ]
    },
    {
      "cell_type": "code",
      "metadata": {
        "colab": {
          "base_uri": "https://localhost:8080/"
        },
        "id": "sw7Zk0nr6F1a",
        "outputId": "2d954609-bc4b-4a8c-ed09-3714c4156a88"
      },
      "source": [
        "import numpy as np\n",
        "\n",
        "feature_importances_normalized = np.std([tree.feature_importances_ for tree in model.estimators_], axis=0)\n",
        "\n",
        "for i in range(len(feature_list)):\n",
        "  print(feature_list[i], feature_importances_normalized[i])"
      ],
      "execution_count": 15,
      "outputs": [
        {
          "output_type": "stream",
          "text": [
            "chou_fasman 0.004739212892789355\n",
            "emini 0.003898265800505184\n",
            "kolaskar_tongaonkar 0.004417591062921891\n",
            "parker 0.004774123819385936\n",
            "isoelectric_point 0.012848764852705426\n",
            "aromaticity 0.017152823191478254\n",
            "hydrophobicity 0.017172590239230266\n",
            "stability 0.014485986472523275\n",
            "protein_seq_length 0.016152380103994633\n",
            "peptide_length 0.014968795051561408\n",
            "peptide_region 0.016537290307715627\n"
          ],
          "name": "stdout"
        }
      ]
    },
    {
      "cell_type": "markdown",
      "metadata": {
        "id": "y3wzglc68KtO"
      },
      "source": [
        "### Visualize the normalized feature importance"
      ]
    },
    {
      "cell_type": "code",
      "metadata": {
        "id": "xeHpegsa8D1o"
      },
      "source": [
        "import matplotlib.pyplot as plt\n",
        "import seaborn as sns"
      ],
      "execution_count": 16,
      "outputs": []
    },
    {
      "cell_type": "code",
      "metadata": {
        "colab": {
          "base_uri": "https://localhost:8080/",
          "height": 606
        },
        "id": "hRqVVwZC8Qrr",
        "outputId": "e34ac21f-83e1-4a25-ce93-b91e11586627"
      },
      "source": [
        "plt.figure(figsize=(10,10))\n",
        "sns.barplot(x=feature_importances_normalized, y=feature_list)\n",
        "plt.xlabel('Importance')\n",
        "plt.ylabel('Feature')\n",
        "plt.show()"
      ],
      "execution_count": 17,
      "outputs": [
        {
          "output_type": "display_data",
          "data": {
            "image/png": "[encoded data removed]",
            "text/plain": [
              "<Figure size 720x720 with 1 Axes>"
            ]
          },
          "metadata": {
            "tags": [],
            "needs_background": "light"
          }
        }
      ]
    },
    {
      "cell_type": "markdown",
      "metadata": {
        "id": "89DU6k7R9QTp"
      },
      "source": [
        "Some features are more important than others.\n",
        "\n",
        "But for this case, we will consider all features as important based on the subject matter."
      ]
    },
    {
      "cell_type": "markdown",
      "metadata": {
        "id": "63wsqwGF9ubj"
      },
      "source": [
        "## Explore Data Distribution of the features"
      ]
    },
    {
      "cell_type": "code",
      "metadata": {
        "id": "J_jrjba0KMX8"
      },
      "source": [
        "labels = bcell['target']\n",
        "feature_columns = bcell.columns.to_list()\n",
        "feature_columns.remove('target')"
      ],
      "execution_count": 18,
      "outputs": []
    },
    {
      "cell_type": "code",
      "metadata": {
        "colab": {
          "base_uri": "https://localhost:8080/",
          "height": 1000
        },
        "id": "cQjZ7UB29KaP",
        "outputId": "50a539f5-59fa-4fe1-adcf-6923599dbf49"
      },
      "source": [
        "n = len(feature_columns)\n",
        "h = math.floor(n/3)\n",
        "v = math.ceil(n/h)\n",
        "\n",
        "fig, axes = plt.subplots(v, h, figsize=(20,15))\n",
        "fig.subplots_adjust(wspace=0.8)\n",
        "fig.suptitle('Distribution of Feature values', va='bottom')\n",
        "axes = axes.ravel()\n",
        "\n",
        "for i, feature_name in enumerate(feature_columns):\n",
        "  value = bcell[feature_name]\n",
        "  graph = sns.histplot(value[labels==0], color='red', kde=True, ax=axes[i])\n",
        "  graph = sns.histplot(value[labels==1], color='green', kde=True, ax=axes[i])\n",
        "  graph.set(xlabel=feature_name)\n",
        "  graph.set(ylabel=None)\n",
        "  fig.legend(labels=['Negative:0', 'Positive:1'], loc=\"upper right\", fancybox=True, borderpad=0.4)"
      ],
      "execution_count": 19,
      "outputs": [
        {
          "output_type": "display_data",
          "data": {
            "image/png": "[encoded data removed]",
            "text/plain": [
              "<Figure size 1440x1080 with 12 Axes>"
            ]
          },
          "metadata": {
            "tags": [],
            "needs_background": "light"
          }
        }
      ]
    },
    {
      "cell_type": "markdown",
      "metadata": {
        "id": "AgvWMEmMRJEa"
      },
      "source": [
        "* `emini` has outliers and almost a Power Law distribution\n",
        "* `chou_fasman`, `kolaskar_tongaonkar`, `parker` have Gaussian distribution\n",
        "* All others have non-Gaussian distribution\n",
        "* For `hydrophobicity` and `aromacity`, target values of 1 are slightly more positive than target values of 0."
      ]
    },
    {
      "cell_type": "markdown",
      "metadata": {
        "id": "K2J00A5Gcf54"
      },
      "source": [
        "## Explore Feature Correlation"
      ]
    },
    {
      "cell_type": "code",
      "metadata": {
        "colab": {
          "base_uri": "https://localhost:8080/",
          "height": 538
        },
        "id": "vJqNAsB_ZwN5",
        "outputId": "81719727-061c-4faa-d137-54285f140d3e"
      },
      "source": [
        "# Generate correlation matrix\n",
        "corr_matrix = bcell[bcell.columns].corr()\n",
        "\n",
        "# Mask auto-correlation of features\n",
        "mask = np.zeros_like(corr_matrix, dtype=np.bool)\n",
        "mask[np.triu_indices_from(mask)]=True\n",
        "\n",
        "# Plot the correlation matrix\n",
        "with sns.axes_style(\"white\"):\n",
        "  fig, ax = plt.subplots(figsize=(10, 7))\n",
        "  plt.title('Properties Correlation Matrix')\n",
        "  ax = sns.heatmap(corr_matrix, mask=mask, cmap=\"RdYlGn\", vmin=-1, vmax=1)"
      ],
      "execution_count": 20,
      "outputs": [
        {
          "output_type": "display_data",
          "data": {
            "image/png": "[encoded data removed]",
            "text/plain": [
              "<Figure size 720x504 with 2 Axes>"
            ]
          },
          "metadata": {
            "tags": []
          }
        }
      ]
    },
    {
      "cell_type": "markdown",
      "metadata": {
        "id": "5UkH9b2OfvgL"
      },
      "source": [
        "## Check Class Imbalanace"
      ]
    },
    {
      "cell_type": "code",
      "metadata": {
        "colab": {
          "base_uri": "https://localhost:8080/",
          "height": 551
        },
        "id": "rd2fehUQfvOi",
        "outputId": "f85e3ea8-5670-4310-8dd4-54300fcfb53a"
      },
      "source": [
        "with sns.axes_style(\"white\"):\n",
        "  g = sns.countplot(bcell['target'])"
      ],
      "execution_count": 21,
      "outputs": [
        {
          "output_type": "stream",
          "text": [
            "/usr/local/lib/python3.6/dist-packages/seaborn/_decorators.py:43: FutureWarning: Pass the following variable as a keyword arg: x. From version 0.12, the only valid positional argument will be `data`, and passing other arguments without an explicit keyword will result in an error or misinterpretation.\n",
            "  FutureWarning\n"
          ],
          "name": "stderr"
        },
        {
          "output_type": "display_data",
          "data": {
            "image/png": "[encoded data removed]",
            "text/plain": [
              "<Figure size 1440x576 with 1 Axes>"
            ]
          },
          "metadata": {
            "tags": []
          }
        }
      ]
    },
    {
      "cell_type": "markdown",
      "metadata": {
        "id": "OW9Z4JOdgLFu"
      },
      "source": [
        "### Generate weights to handle class imbalance\n"
      ]
    },
    {
      "cell_type": "code",
      "metadata": {
        "colab": {
          "base_uri": "https://localhost:8080/"
        },
        "id": "2DvBc3W8dxmt",
        "outputId": "7b011988-ba36-4815-edd4-de351a62ca0d"
      },
      "source": [
        "from collections import Counter\n",
        "\n",
        "def get_class_weights(y):\n",
        "    counter = Counter(y)\n",
        "    majority = max(counter.values())\n",
        "    return  {cls: round(float(majority)/float(count), 2) for cls, count in counter.items()}\n",
        "\n",
        "CLASS_WEIGHTS = get_class_weights(bcell.target.values)\n",
        "print(CLASS_WEIGHTS)"
      ],
      "execution_count": 22,
      "outputs": [
        {
          "output_type": "stream",
          "text": [
            "{1: 2.69, 0: 1.0}\n"
          ],
          "name": "stdout"
        }
      ]
    },
    {
      "cell_type": "markdown",
      "metadata": {
        "id": "thFrrO9xhZHH"
      },
      "source": [
        "## Create Model"
      ]
    },
    {
      "cell_type": "markdown",
      "metadata": {
        "id": "MpmFxmFtSdG-"
      },
      "source": [
        "### Split data into training and testing set"
      ]
    },
    {
      "cell_type": "code",
      "metadata": {
        "id": "SUIKHjK5hTz_"
      },
      "source": [
        "from sklearn.model_selection import train_test_split"
      ],
      "execution_count": 38,
      "outputs": []
    },
    {
      "cell_type": "code",
      "metadata": {
        "id": "qWnGmp_BTQCP"
      },
      "source": [
        "features = bcell.drop(columns=['target'])\n",
        "label = bcell['target'].astype({'target': 'category'})"
      ],
      "execution_count": 39,
      "outputs": []
    },
    {
      "cell_type": "code",
      "metadata": {
        "colab": {
          "base_uri": "https://localhost:8080/"
        },
        "id": "UbX8xHZCTSBR",
        "outputId": "e0d10ab5-160f-44d8-fb6b-2109c38814d1"
      },
      "source": [
        "print(features.shape, label.shape)"
      ],
      "execution_count": 40,
      "outputs": [
        {
          "output_type": "stream",
          "text": [
            "(14387, 11) (14387,)\n"
          ],
          "name": "stdout"
        }
      ]
    },
    {
      "cell_type": "code",
      "metadata": {
        "id": "Ytwr14EuTJIE"
      },
      "source": [
        "X_trn, X_tst, y_trn, y_tst = train_test_split(features, label, test_size=0.2, shuffle=True, random_state=20)"
      ],
      "execution_count": 41,
      "outputs": []
    },
    {
      "cell_type": "code",
      "metadata": {
        "colab": {
          "base_uri": "https://localhost:8080/"
        },
        "id": "pG8_rx40Tsjs",
        "outputId": "cb7140ab-4706-4e72-b90b-2f3848c97ea1"
      },
      "source": [
        "print(X_trn.shape, y_trn.shape)\n",
        "print(X_tst.shape, y_tst.shape)"
      ],
      "execution_count": 42,
      "outputs": [
        {
          "output_type": "stream",
          "text": [
            "(11509, 11) (11509,)\n",
            "(2878, 11) (2878,)\n"
          ],
          "name": "stdout"
        }
      ]
    },
    {
      "cell_type": "markdown",
      "metadata": {
        "id": "EXSdkGJTUoKY"
      },
      "source": [
        "### Build the model"
      ]
    },
    {
      "cell_type": "code",
      "metadata": {
        "id": "o0vZ_oofVws6"
      },
      "source": [
        "import tensorflow as tf\n",
        "import tensorflow_addons as tfa"
      ],
      "execution_count": 43,
      "outputs": []
    },
    {
      "cell_type": "markdown",
      "metadata": {
        "id": "700YiwZXVXoX"
      },
      "source": [
        "#### Hyperparameters"
      ]
    },
    {
      "cell_type": "code",
      "metadata": {
        "id": "ZKVXC10RUr41"
      },
      "source": [
        "BATCH_SIZE = 512\n",
        "\n",
        "EPOCHS = 50\n",
        "\n",
        "STEPS_PER_EPOCH = len(X_trn.index)//BATCH_SIZE\n",
        "\n",
        "lr_schedule = tf.keras.optimizers.schedules.InverseTimeDecay(\n",
        "  initial_learning_rate=0.0003,\n",
        "  decay_steps=STEPS_PER_EPOCH*10,\n",
        "  decay_rate=0.0,\n",
        "  staircase=True)\n",
        "\n",
        "OPT = tfa.optimizers.LazyAdam(lr_schedule)\n",
        "\n",
        "#LOSS = tf.keras.losses.MeanSquaredLogarithmicError()\n",
        "LOSS = tf.keras.losses.Huber(delta=2)\n",
        "\n",
        "METRICS = [tf.keras.metrics.AUC()]\n",
        "\n",
        "DROPOUT = 0.3\n",
        "\n",
        "early_stopping = tf.keras.callbacks.EarlyStopping(monitor='val_loss', patience=10, mode='auto', restore_best_weights=False)"
      ],
      "execution_count": 44,
      "outputs": []
    },
    {
      "cell_type": "markdown",
      "metadata": {
        "id": "_M5WmWuifP7V"
      },
      "source": [
        "#### Network"
      ]
    },
    {
      "cell_type": "code",
      "metadata": {
        "id": "Aob9zKwefPP_"
      },
      "source": [
        "# Input\n",
        "inputs = tf.keras.Input(shape=(X_trn.shape[-1],))\n",
        "\n",
        "# Normalization\n",
        "x = tf.keras.layers.experimental.preprocessing.Normalization()(inputs)\n",
        "x = tf.keras.layers.BatchNormalization()(x)\n",
        "\n",
        "# Feature Extraction\n",
        "x = tfa.layers.WeightNormalization(tf.keras.layers.Dense(units = 2000))(x)\n",
        "x = tf.keras.layers.PReLU()(x)\n",
        "x = tf.keras.layers.AlphaDropout(DROPOUT*1.5)(x)\n",
        "\n",
        "x = tf.keras.layers.Dense(units = 1024)(x)\n",
        "x = tf.keras.layers.PReLU()(x)\n",
        "x = tf.keras.layers.AlphaDropout(DROPOUT)(x)\n",
        "\n",
        "# Compression layers\n",
        "x = tf.keras.layers.Dense(units = 512)(x)\n",
        "x = tf.keras.layers.PReLU()(x)\n",
        "x = tf.keras.layers.Dense(units = 256)(x)\n",
        "x = tf.keras.layers.PReLU()(x)\n",
        "x = tf.keras.layers.Dense(units = 64)(x)\n",
        "x = tf.keras.layers.PReLU()(x)\n",
        "x = tf.keras.layers.Dense(units = 16)(x)\n",
        "x = tf.keras.layers.PReLU()(x)\n",
        "\n",
        "# Output\n",
        "outputs = tf.keras.layers.Dense(1, activation='sigmoid')(x)\n",
        "\n",
        "# Ensemble Model\n",
        "model = tf.keras.Model(inputs=inputs, outputs=outputs, name=\"SARS_epitome_classifier\")"
      ],
      "execution_count": 45,
      "outputs": []
    },
    {
      "cell_type": "code",
      "metadata": {
        "id": "zEGvin9lf9wA"
      },
      "source": [
        "model.compile(optimizer=OPT, loss=LOSS, metrics=METRICS)"
      ],
      "execution_count": 46,
      "outputs": []
    },
    {
      "cell_type": "code",
      "metadata": {
        "colab": {
          "base_uri": "https://localhost:8080/"
        },
        "id": "GvJs0FF_gq2k",
        "outputId": "5803c9c4-7729-4579-9456-303771b9a501"
      },
      "source": [
        "model.summary()"
      ],
      "execution_count": 47,
      "outputs": [
        {
          "output_type": "stream",
          "text": [
            "Model: \"SARS_epitome_classifier\"\n",
            "_________________________________________________________________\n",
            "Layer (type)                 Output Shape              Param #   \n",
            "=================================================================\n",
            "input_3 (InputLayer)         [(None, 11)]              0         \n",
            "_________________________________________________________________\n",
            "normalization_2 (Normalizati (None, 11)                23        \n",
            "_________________________________________________________________\n",
            "batch_normalization_2 (Batch (None, 11)                44        \n",
            "_________________________________________________________________\n",
            "weight_normalization_2 (Weig (None, 2000)              50001     \n",
            "_________________________________________________________________\n",
            "p_re_lu_7 (PReLU)            (None, 2000)              2000      \n",
            "_________________________________________________________________\n",
            "alpha_dropout_2 (AlphaDropou (None, 2000)              0         \n",
            "_________________________________________________________________\n",
            "dense_9 (Dense)              (None, 1024)              2049024   \n",
            "_________________________________________________________________\n",
            "p_re_lu_8 (PReLU)            (None, 1024)              1024      \n",
            "_________________________________________________________________\n",
            "alpha_dropout_3 (AlphaDropou (None, 1024)              0         \n",
            "_________________________________________________________________\n",
            "dense_10 (Dense)             (None, 512)               524800    \n",
            "_________________________________________________________________\n",
            "p_re_lu_9 (PReLU)            (None, 512)               512       \n",
            "_________________________________________________________________\n",
            "dense_11 (Dense)             (None, 256)               131328    \n",
            "_________________________________________________________________\n",
            "p_re_lu_10 (PReLU)           (None, 256)               256       \n",
            "_________________________________________________________________\n",
            "dense_12 (Dense)             (None, 64)                16448     \n",
            "_________________________________________________________________\n",
            "p_re_lu_11 (PReLU)           (None, 64)                64        \n",
            "_________________________________________________________________\n",
            "dense_13 (Dense)             (None, 16)                1040      \n",
            "_________________________________________________________________\n",
            "p_re_lu_12 (PReLU)           (None, 16)                16        \n",
            "_________________________________________________________________\n",
            "dense_14 (Dense)             (None, 1)                 17        \n",
            "=================================================================\n",
            "Total params: 2,776,597\n",
            "Trainable params: 2,752,551\n",
            "Non-trainable params: 24,046\n",
            "_________________________________________________________________\n"
          ],
          "name": "stdout"
        }
      ]
    },
    {
      "cell_type": "markdown",
      "metadata": {
        "id": "bjJyB74Yh-NA"
      },
      "source": [
        "## Train model"
      ]
    },
    {
      "cell_type": "code",
      "metadata": {
        "id": "kfq3wc22gttV"
      },
      "source": [
        "try:\n",
        "  from livelossplot import PlotLossesKeras\n",
        "except ModuleNotFoundError:\n",
        "  !pip install livelossplot\n",
        "  from livelossplot import PlotLossesKeras # for live training visualization\n",
        "\n",
        "from IPython.display import clear_output\n",
        "clear_output()"
      ],
      "execution_count": 48,
      "outputs": []
    },
    {
      "cell_type": "code",
      "metadata": {
        "colab": {
          "base_uri": "https://localhost:8080/",
          "height": 687
        },
        "id": "7I9-oLsYiB62",
        "outputId": "1a2931a5-ea94-4453-e947-bc5aa6a10e9f"
      },
      "source": [
        "history = model.fit(\n",
        "  x=X_trn, y=y_trn,\n",
        "  batch_size=BATCH_SIZE, \n",
        "  epochs=EPOCHS,\n",
        "  verbose=0,\n",
        "  callbacks=[PlotLossesKeras(), early_stopping],\n",
        "  validation_data=(X_tst, y_tst),\n",
        "  class_weight=CLASS_WEIGHTS\n",
        ")"
      ],
      "execution_count": 49,
      "outputs": [
        {
          "output_type": "display_data",
          "data": {
            "image/png": "[encoded data removed]",
            "text/plain": [
              "<Figure size 864x576 with 2 Axes>"
            ]
          },
          "metadata": {
            "tags": [],
            "needs_background": "light"
          }
        },
        {
          "output_type": "stream",
          "text": [
            "auc_1\n",
            "\ttraining         \t (min:    0.596, max:    0.902, cur:    0.902)\n",
            "\tvalidation       \t (min:    0.570, max:    0.871, cur:    0.869)\n",
            "Loss\n",
            "\ttraining         \t (min:    0.090, max:    0.187, cur:    0.090)\n",
            "\tvalidation       \t (min:    0.080, max:    0.186, cur:    0.081)\n"
          ],
          "name": "stdout"
        }
      ]
    },
    {
      "cell_type": "markdown",
      "metadata": {
        "id": "zvGRvinxliDm"
      },
      "source": [
        "## Test model"
      ]
    },
    {
      "cell_type": "code",
      "metadata": {
        "id": "tE3X3PeGlln_"
      },
      "source": [
        "test_features = sars.drop(columns=['target'])\n",
        "test_label = sars['target'].astype({'target': 'category'})"
      ],
      "execution_count": 56,
      "outputs": []
    },
    {
      "cell_type": "code",
      "metadata": {
        "colab": {
          "base_uri": "https://localhost:8080/"
        },
        "id": "CVoFDQXul0nx",
        "outputId": "c156db8e-cc23-40b7-e063-b1d5267a84b5"
      },
      "source": [
        "predictions = model.evaluate(x=test_features, y=test_label, verbose=1, steps=len(test_features.index))"
      ],
      "execution_count": 57,
      "outputs": [
        {
          "output_type": "stream",
          "text": [
            "520/520 [==============================] - 2s 3ms/step - loss: 0.1198 - auc_1: 0.5346\n"
          ],
          "name": "stdout"
        }
      ]
    },
    {
      "cell_type": "markdown",
      "metadata": {
        "id": "rfdeatcXmkR3"
      },
      "source": [
        "## Conclusion"
      ]
    },
    {
      "cell_type": "markdown",
      "metadata": {
        "id": "kju1feGEmm4P"
      },
      "source": [
        "* The testing dataset AUC ~ 0.50 is radically different from the validation datset AUC ~ 0.87. \n",
        "  * This suggest that there could be little correlation between the two datasets. This usually means that the validation set is not representitive of the testing dataset.\n",
        "* Improvement steps\n",
        "  * Provide protein cluster and/or domain groups to implement Neural Structured Learning. https://www.tensorflow.org/neural_structured_learning\n",
        "  * Limit training samples to only include proteins from the same or neighbouring clusters.\n",
        "  * Use Tensorflow Probability to better learn nonlinear relationships. https://www.tensorflow.org/probability\n",
        "  * Further optimize hyperparameters and model architecture."
      ]
    }
  ]
}